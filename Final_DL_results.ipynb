{
 "cells": [
  {
   "cell_type": "code",
   "execution_count": 2,
   "metadata": {
    "collapsed": true
   },
   "outputs": [],
   "source": [
    "import numpy as np"
   ]
  },
  {
   "cell_type": "markdown",
   "metadata": {},
   "source": [
    "# ResNet50"
   ]
  },
  {
   "cell_type": "code",
   "execution_count": 11,
   "metadata": {},
   "outputs": [
    {
     "name": "stdout",
     "output_type": "stream",
     "text": [
      "Accuacy_mean= 55.366\n",
      "Pecision_mean= 71.57000000000001\n",
      "Recall_mean= 55.359\n",
      "F_Scoe_mean= 45.403\n",
      "roc_auc_scoe_mean= 55.359\n",
      "Specificity_mean= 53.052\n",
      "No_Eorror_mean= 37.0\n"
     ]
    }
   ],
   "source": [
    "print(\"Accuacy_mean=\", np.mean([42.68, 53.66,52.44,63.41, 51.22,52.44,54.88, 58.54,68.29, 56.10]))\n",
    "print(\"Pecision_mean=\", np.mean([37.07, 75.94,75.62,72.43, 75.30,75.62,76.28, 77.33,80.59, 69.52]))\n",
    "print(\"Recall_mean=\", np.mean([42.68, 53.65,52.43,63.41, 51.21,52.43,54.87, 58.53,68.29, 56.09]))\n",
    "print(\"F_Scoe_mean=\", np.mean([35.71, 40.98,38.53,59.32, 35.98,38.53,43.34, 49.92,64.74, 46.98]))\n",
    "print(\"roc_auc_scoe_mean=\", np.mean([42.68, 53.65,52.43,63.41, 51.21,52.43,54.87, 58.53,68.29 ,  56.09]))\n",
    "print(\"Specificity_mean=\",  np.mean([45.58, 51.89,51.25,58.20, 50.61,51.25,52.56, 54.66,61.19, 53.33]))\n",
    "print(\"No_Eorror_mean=\",  np.mean([47, 38,39,30, 40,39,37, 38,26, 36]))"
   ]
  },
  {
   "cell_type": "code",
   "execution_count": 12,
   "metadata": {},
   "outputs": [
    {
     "name": "stdout",
     "output_type": "stream",
     "text": [
      "Accuacy_std= 6.638842067710303\n",
      "Pecision_std= 11.822558944661685\n",
      "Recall_std= 6.64009103853253\n",
      "F_Scoe_std= 9.44211316390563\n",
      "roc_auc_scoe_std= 6.64009103853253\n",
      "Specificity_std= 4.065375259431778\n",
      "No_Eorror_std= 5.385164807134504\n"
     ]
    }
   ],
   "source": [
    "print(\"Accuacy_std=\", np.std([42.68, 53.66,52.44,63.41, 51.22,52.44,54.88, 58.54,68.29, 56.10]))\n",
    "print(\"Pecision_std=\", np.std([37.07, 75.94,75.62,72.43, 75.30,75.62,76.28, 77.33,80.59, 69.52]))\n",
    "print(\"Recall_std=\", np.std([42.68, 53.65,52.43,63.41, 51.21,52.43,54.87, 58.53,68.29, 56.09]))\n",
    "print(\"F_Scoe_std=\", np.std([35.71, 40.98,38.53,59.32, 35.98,38.53,43.34, 49.92,64.74, 46.98]))\n",
    "print(\"roc_auc_scoe_std=\", np.std([42.68, 53.65,52.43,63.41, 51.21,52.43,54.87, 58.53,68.29 ,  56.09]))\n",
    "print(\"Specificity_std=\",  np.std([45.58, 51.89,51.25,58.20, 50.61,51.25,52.56, 54.66,61.19, 53.33]))\n",
    "print(\"No_Eorror_std=\",  np.std([47, 38,39,30, 40,39,37, 38,26, 36]))"
   ]
  },
  {
   "cell_type": "markdown",
   "metadata": {},
   "source": [
    "_________"
   ]
  },
  {
   "cell_type": "markdown",
   "metadata": {},
   "source": [
    "# VGG16"
   ]
  },
  {
   "cell_type": "code",
   "execution_count": 13,
   "metadata": {},
   "outputs": [
    {
     "name": "stdout",
     "output_type": "stream",
     "text": [
      "Accuacy_mean= 87.07199999999999\n",
      "Pecision_mean= 89.042\n",
      "Recall_mean= 87.06799999999998\n",
      "F_Scoe_mean= 86.886\n",
      "roc_auc_scoe_mean= 87.06799999999998\n",
      "Specificity_mean= 80.69800000000001\n",
      "No_Eorror_mean= 10.6\n"
     ]
    }
   ],
   "source": [
    "print(\"Accuacy_mean=\", np.mean([89.02,  90.24, 86.59, 82.93,  89.02, 86.59, 81.71,  89.02, 87.80, 87.80]))\n",
    "print(\"Pecision_mean=\", np.mean([89.23,  91.83, 88.43, 84.23,  91.00, 89.42, 86.60,  90.19, 89.30, 90.19]))\n",
    "print(\"Recall_mean=\", np.mean([89.02,  90.24, 86.58, 82.92,  89.02, 86.58, 81.70,  89.02, 87.80, 87.80]))\n",
    "print(\"F_Scoe_mean=\", np.mean([89.00,  90.15, 86.42, 82.76,  88.89, 86.33, 81.07,  88.94, 87.68, 87.62]))\n",
    "print(\"roc_auc_scoe_mean=\", np.mean([89.02,  90.24, 86.58, 82.92,  89.02, 86.58, 81.70,  89.02, 87.80,  87.80]))\n",
    "print(\"Specificity_mean=\",  np.mean([86.36,  83.67, 80.00, 77.55,  82.00, 78.84, 73.21,  83.33, 81.63, 80.39]))\n",
    "print(\"No_Eorror_mean=\",  np.mean([ 9,  8, 11, 14,  9, 11, 15,  9, 10,  10]))"
   ]
  },
  {
   "cell_type": "code",
   "execution_count": 14,
   "metadata": {},
   "outputs": [
    {
     "name": "stdout",
     "output_type": "stream",
     "text": [
      "Accuacy_std= 2.623969512018002\n",
      "Pecision_std= 2.0971542623278805\n",
      "Recall_std= 2.627960425881635\n",
      "F_Scoe_std= 2.755047005043654\n",
      "roc_auc_scoe_std= 2.627960425881635\n",
      "Specificity_std= 3.4698207446494997\n",
      "No_Eorror_std= 2.1540659228538015\n"
     ]
    }
   ],
   "source": [
    "print(\"Accuacy_std=\", np.std([89.02,  90.24, 86.59, 82.93,  89.02, 86.59, 81.71,  89.02, 87.80, 87.80]))\n",
    "print(\"Pecision_std=\", np.std([89.23,  91.83, 88.43, 84.23,  91.00, 89.42, 86.60,  90.19, 89.30, 90.19]))\n",
    "print(\"Recall_std=\", np.std([89.02,  90.24, 86.58, 82.92,  89.02, 86.58, 81.70,  89.02, 87.80, 87.80]))\n",
    "print(\"F_Scoe_std=\", np.std([89.00,  90.15, 86.42, 82.76,  88.89, 86.33, 81.07,  88.94, 87.68, 87.62]))\n",
    "print(\"roc_auc_scoe_std=\", np.std([89.02,  90.24, 86.58, 82.92,  89.02, 86.58, 81.70,  89.02, 87.80,  87.80]))\n",
    "print(\"Specificity_std=\",  np.std([86.36,  83.67, 80.00, 77.55,  82.00, 78.84, 73.21,  83.33, 81.63, 80.39]))\n",
    "print(\"No_Eorror_std=\",  np.std([ 9,  8, 11, 14,  9, 11, 15,  9, 10,  10]))"
   ]
  },
  {
   "cell_type": "markdown",
   "metadata": {},
   "source": [
    "___\n",
    "# InceptionV3"
   ]
  },
  {
   "cell_type": "code",
   "execution_count": 16,
   "metadata": {},
   "outputs": [
    {
     "name": "stdout",
     "output_type": "stream",
     "text": [
      "Accuacy_mean= 96.33999999999999\n",
      "Pecision_mean= 96.615\n",
      "Recall_mean= 96.33999999999999\n",
      "F_Scoe_mean= 96.46333333333332\n",
      "roc_auc_scoe_mean= 96.33999999999999\n",
      "Specificity_mean= 93.23400000000001\n",
      "No_Eorror_mean= 3.0\n"
     ]
    }
   ],
   "source": [
    "print(\"Accuacy_mean=\", np.mean([97.56, 95.12,95.12,96.34, 93.90,95.12,97.56, 97.56,97.56,97.56]))\n",
    "print(\"Pecision_mean=\", np.mean([97.67, 95.55,95.55,96.59, 94.56,95.55,97.67, 97.67,97.67,97.67]))\n",
    "print(\"Recall_mean=\", np.mean([97.56, 95.12,95.12,96.34, 93.90,95.12,97.56, 97.56,97.56,97.56]))\n",
    "print(\"F_Scoe_mean=\", np.mean([97.55,95.11,96.33, 93.87,95.11,97.55, 97.55 ,97.55,97.55]))\n",
    "print(\"roc_auc_scoe_mean=\", np.mean([97.56, 95.12,95.12,96.34, 93.90,95.12,97.56, 97.56,97.56, 97.56]))\n",
    "print(\"Specificity_mean=\",  np.mean([95.34, 91.11,91.11,93.18, 89.13,91.11,95.34, 95.34,95.34,95.34]))\n",
    "print(\"No_Eorror_mean=\",  np.mean([2, 4,4,3, 5,4,2, 2,2,2]))"
   ]
  },
  {
   "cell_type": "code",
   "execution_count": 17,
   "metadata": {},
   "outputs": [
    {
     "name": "stdout",
     "output_type": "stream",
     "text": [
      "Accuacy_std= 1.336443040312604\n",
      "Pecision_std= 1.1485403780451093\n",
      "Recall_std= 1.336443040312604\n",
      "F_Scoe_std= 1.3462045411699743\n",
      "roc_auc_scoe_std= 1.336443040312604\n",
      "Specificity_std= 2.2925104143711126\n",
      "No_Eorror_std= 1.0954451150103321\n"
     ]
    }
   ],
   "source": [
    "print(\"Accuacy_std=\", np.std([97.56, 95.12,95.12,96.34, 93.90,95.12,97.56, 97.56,97.56,97.56]))\n",
    "print(\"Pecision_std=\", np.std([97.67, 95.55,95.55,96.59, 94.56,95.55,97.67, 97.67,97.67,97.67]))\n",
    "print(\"Recall_std=\", np.std([97.56, 95.12,95.12,96.34, 93.90,95.12,97.56, 97.56,97.56,97.56]))\n",
    "print(\"F_Scoe_std=\", np.std([97.55,95.11,96.33, 93.87,95.11,97.55, 97.55 ,97.55,97.55]))\n",
    "print(\"roc_auc_scoe_std=\", np.std([97.56, 95.12,95.12,96.34, 93.90,95.12,97.56, 97.56,97.56, 97.56]))\n",
    "print(\"Specificity_std=\",  np.std([95.34, 91.11,91.11,93.18, 89.13,91.11,95.34, 95.34,95.34,95.34]))\n",
    "print(\"No_Eorror_std=\",  np.std([2, 4,4,3, 5,4,2, 2,2,2]))"
   ]
  },
  {
   "cell_type": "markdown",
   "metadata": {},
   "source": [
    "_________________\n",
    "# DenseNet 121"
   ]
  },
  {
   "cell_type": "code",
   "execution_count": 18,
   "metadata": {},
   "outputs": [
    {
     "name": "stdout",
     "output_type": "stream",
     "text": [
      "Accuacy_mean= 94.388\n",
      "Pecision_mean= 94.732\n",
      "Recall_mean= 94.388\n",
      "F_Scoe_mean= 94.374\n",
      "roc_auc_scoe_mean= 94.388\n",
      "Specificity_mean= 94.03\n",
      "No_Eorror_mean= 4.6\n"
     ]
    }
   ],
   "source": [
    "print(\"Accuacy_mean=\", np.mean([95.12, 91.46,91.46,95.12, 96.34,91.46,96.34,  97.56,95.12, 93.90]))\n",
    "print(\"Pecision_mean=\", np.mean([95.55, 91.68,92.70,95.55, 96.36,92.08,96.59, 97.56,95.12, 94.13]))\n",
    "print(\"Recall_mean=\", np.mean([95.12, 91.46,91.46,95.12, 96.34,91.46,96.34, 97.56,95.12, 93.90]))\n",
    "print(\"F_Scoe_mean=\", np.mean([95.11, 91.45,91.40,95.11, 96.34,91.43,96.33, 97.56,95.12, 93.89]))\n",
    "print(\"roc_auc_scoe_mean=\", np.mean([95.12, 91.46,91.46,95.12, 96.34,91.46,96.34, 97.56,95.12,  93.90]))\n",
    "print(\"Specificity_mean=\",  np.mean([91.11, 94.73,85.41,91.11, 97.50,97.22,93.18, 97.56,95.12, 97.36]))\n",
    "print(\"No_Eorror_mean=\",  np.mean([4, 7,7,4, 3,7,3, 2,4, 5]))"
   ]
  },
  {
   "cell_type": "code",
   "execution_count": 19,
   "metadata": {},
   "outputs": [
    {
     "name": "stdout",
     "output_type": "stream",
     "text": [
      "Accuacy_std= 2.1271426844478527\n",
      "Pecision_std= 1.908616252681507\n",
      "Recall_std= 2.1271426844478527\n",
      "F_Scoe_std= 2.139566311194863\n",
      "roc_auc_scoe_std= 2.1271426844478527\n",
      "Specificity_std= 3.7352991848043455\n",
      "No_Eorror_std= 1.7435595774162693\n"
     ]
    }
   ],
   "source": [
    "print(\"Accuacy_std=\", np.std([95.12, 91.46,91.46,95.12, 96.34,91.46,96.34,  97.56,95.12, 93.90]))\n",
    "print(\"Pecision_std=\", np.std([95.55, 91.68,92.70,95.55, 96.36,92.08,96.59, 97.56,95.12, 94.13]))\n",
    "print(\"Recall_std=\", np.std([95.12, 91.46,91.46,95.12, 96.34,91.46,96.34, 97.56,95.12, 93.90]))\n",
    "print(\"F_Scoe_std=\", np.std([95.11, 91.45,91.40,95.11, 96.34,91.43,96.33, 97.56,95.12, 93.89]))\n",
    "print(\"roc_auc_scoe_std=\", np.std([95.12, 91.46,91.46,95.12, 96.34,91.46,96.34, 97.56,95.12,  93.90]))\n",
    "print(\"Specificity_std=\",  np.std([91.11, 94.73,85.41,91.11, 97.50,97.22,93.18, 97.56,95.12, 97.36]))\n",
    "print(\"No_Eorror_std=\",  np.std([4, 7,7,4, 3,7,3, 2,4, 5]))"
   ]
  },
  {
   "cell_type": "markdown",
   "metadata": {},
   "source": [
    "______\n",
    "# Xception"
   ]
  },
  {
   "cell_type": "code",
   "execution_count": 20,
   "metadata": {},
   "outputs": [
    {
     "name": "stdout",
     "output_type": "stream",
     "text": [
      "Accuacy_mean= 94.75399999999999\n",
      "Pecision_mean= 94.85600000000001\n",
      "Recall_mean= 94.75399999999999\n",
      "F_Scoe_mean= 94.747\n",
      "roc_auc_scoe_mean= 94.75399999999999\n",
      "Specificity_mean= 92.788\n",
      "No_Eorror_mean= 4.3\n"
     ]
    }
   ],
   "source": [
    "print(\"Accuacy_mean=\", np.mean([95.12, 96.34,92.68,93.90, 93.90,95.12,95.12, 96.34,95.12,93.90]))\n",
    "print(\"Pecision_mean=\", np.mean([95.22, 96.36,92.78,94.13, 93.92,95.22,95.22, 96.36,95.22,94.13]))\n",
    "print(\"Recall_mean=\", np.mean([95.12, 96.34,92.68,93.90, 93.90,95.12,95.12, 96.34,95.12,93.90]))\n",
    "print(\"F_Score_mean=\", np.mean([95.11, 96.34,92.67,93.89, 93.90,95.11,95.11, 96.34,95.11,93.89]))\n",
    "print(\"roc_auc_scoe_mean=\", np.mean([95.12, 96.34,92.68,93.90, 93.90,95.12,95.12, 96.34,95.12, 93.90]))\n",
    "print(\"Specificity_mean=\",  np.mean([93.02, 95.23,90.69,90.90, 92.85,93.02,93.02, 95.23,93.02,90.90]))\n",
    "print(\"No_Eorror_mean=\",  np.mean([4, 3,6,5, 5,4,4, 3,4,5]))"
   ]
  },
  {
   "cell_type": "code",
   "execution_count": 21,
   "metadata": {},
   "outputs": [
    {
     "name": "stdout",
     "output_type": "stream",
     "text": [
      "Accuacy_std= 1.097999999999999\n",
      "Pecision_std= 1.0627342094804324\n",
      "Recall_std= 1.097999999999999\n",
      "F_Scoe_std= 1.1001186299667869\n",
      "roc_auc_scoe_std= 1.097999999999999\n",
      "Specificity_std= 1.5387189476964271\n",
      "No_Eorror_std= 0.9\n"
     ]
    }
   ],
   "source": [
    "print(\"Accuacy_std=\", np.std([95.12, 96.34,92.68,93.90, 93.90,95.12,95.12, 96.34,95.12,93.90]))\n",
    "print(\"Pecision_std=\", np.std([95.22, 96.36,92.78,94.13, 93.92,95.22,95.22, 96.36,95.22,94.13]))\n",
    "print(\"Recall_std=\", np.std([95.12, 96.34,92.68,93.90, 93.90,95.12,95.12, 96.34,95.12,93.90]))\n",
    "print(\"F_Score_std=\", np.std([95.11, 96.34,92.67,93.89, 93.90,95.11,95.11, 96.34,95.11,93.89]))\n",
    "print(\"roc_auc_scoe_std=\", np.std([95.12, 96.34,92.68,93.90, 93.90,95.12,95.12, 96.34,95.12, 93.90]))\n",
    "print(\"Specificity_std=\",  np.std([93.02, 95.23,90.69,90.90, 92.85,93.02,93.02, 95.23,93.02,90.90]))\n",
    "print(\"No_Eorror_std=\",  np.std([4, 3,6,5, 5,4,4, 3,4,5]))"
   ]
  },
  {
   "cell_type": "markdown",
   "metadata": {},
   "source": [
    "____\n",
    "# MobileNet"
   ]
  },
  {
   "cell_type": "code",
   "execution_count": 24,
   "metadata": {},
   "outputs": [
    {
     "name": "stdout",
     "output_type": "stream",
     "text": [
      "Accuacy_mean= 94.51\n",
      "Pecision_mean= 94.571\n",
      "Recall_mean= 94.51\n",
      "F_Score_mean= 94.506\n",
      "roc_auc_scoe_mean= 94.51\n",
      "Specificity_mean= 93.16\n",
      "No_Error_mean= 4.5\n"
     ]
    }
   ],
   "source": [
    "print(\"Accuacy_mean=\", np.mean([95.12,  92.68, 93.90, 93.90,  96.34, 96.34, 97.56,  95.12, 89.02, 95.12]))\n",
    "print(\"Pecision_mean=\", np.mean([95.22,  92.68, 94.13, 93.92,  96.36, 96.36, 97.56,  95.22, 89.04,95.22]))\n",
    "print(\"Recall_mean=\", np.mean([95.12,  92.68, 93.90, 93.90,  96.34, 96.34, 97.56,  95.12, 89.02, 95.12]))\n",
    "print(\"F_Score_mean=\", np.mean([95.11,  92.68, 93.89, 93.90,  96.34, 96.34, 97.56,  95.11, 89.02, 95.11]))\n",
    "print(\"roc_auc_scoe_mean=\", np.mean([95.12,  92.68, 93.90, 93.90,  96.34, 96.34, 97.56,  95.12, 89.02,95.12]))\n",
    "print(\"Specificity_mean=\",  np.mean([93.02,  92.68, 90.90, 92.85,  95.23, 95.23, 97.56,  93.02, 88.09,93.02]))\n",
    "print(\"No_Error_mean=\",  np.mean([4,  6, 5, 5,  3, 3, 2,  4, 9, 4]))"
   ]
  },
  {
   "cell_type": "code",
   "execution_count": 25,
   "metadata": {},
   "outputs": [
    {
     "name": "stdout",
     "output_type": "stream",
     "text": [
      "Accuacy_std= 2.26604942576282\n",
      "Pecision_std= 2.2668235484924697\n",
      "Recall_std= 2.26604942576282\n",
      "F_Score_std= 2.2655162767016273\n",
      "roc_auc_scoe_std= 2.26604942576282\n",
      "Specificity_std= 2.4316167461176934\n",
      "No_Error_std= 1.857417562100671\n"
     ]
    }
   ],
   "source": [
    "print(\"Accuacy_std=\", np.std([95.12,  92.68, 93.90, 93.90,  96.34, 96.34, 97.56,  95.12, 89.02, 95.12]))\n",
    "print(\"Pecision_std=\", np.std([95.22,  92.68, 94.13, 93.92,  96.36, 96.36, 97.56,  95.22, 89.04,95.22]))\n",
    "print(\"Recall_std=\", np.std([95.12,  92.68, 93.90, 93.90,  96.34, 96.34, 97.56,  95.12, 89.02, 95.12]))\n",
    "print(\"F_Score_std=\", np.std([95.11,  92.68, 93.89, 93.90,  96.34, 96.34, 97.56,  95.11, 89.02, 95.11]))\n",
    "print(\"roc_auc_scoe_std=\", np.std([95.12,  92.68, 93.90, 93.90,  96.34, 96.34, 97.56,  95.12, 89.02,95.12]))\n",
    "print(\"Specificity_std=\",  np.std([93.02,  92.68, 90.90, 92.85,  95.23, 95.23, 97.56,  93.02, 88.09,93.02]))\n",
    "print(\"No_Error_std=\",  np.std([4,  6, 5, 5,  3, 3, 2,  4, 9, 4]))"
   ]
  },
  {
   "cell_type": "markdown",
   "metadata": {},
   "source": [
    "____\n",
    "# DenseNet201"
   ]
  },
  {
   "cell_type": "code",
   "execution_count": 26,
   "metadata": {},
   "outputs": [
    {
     "name": "stdout",
     "output_type": "stream",
     "text": [
      "Accuacy_mean= 96.096\n",
      "Pecision_mean= 96.17699999999999\n",
      "Recall_mean= 96.096\n",
      "F_Score_mean= 96.09199999999998\n",
      "roc_auc_scoe_mean= 96.096\n",
      "Specificity_mean= 94.62100000000001\n",
      "No_Error_mean= 3.2\n"
     ]
    }
   ],
   "source": [
    "print(\"Accuacy_mean=\", np.mean([96.34, 95.12,97.56,98.78, 96.34,95.12,95.12, 95.12,93.90,97.56]))\n",
    "print(\"Pecision_mean=\", np.mean([96.36, 95.22,97.56,98.80, 96.36,95.22,95.55, 95.22,93.92,97.56]))\n",
    "print(\"Recall_mean=\", np.mean([96.34, 95.12,97.56,98.78, 96.34,95.12,95.12, 95.12,93.90,97.56]))\n",
    "print(\"F_Score_mean=\", np.mean([96.34, 95.11,97.56,98.78, 96.34,95.11,95.11, 95.11,93.90,97.56]))\n",
    "print(\"roc_auc_scoe_mean=\", np.mean([96.34, 95.12,97.56,98.78, 96.34,95.12,95.12, 95.12,93.90,97.56]))\n",
    "print(\"Specificity_mean=\",  np.mean([95.23, 93.02,97.56,97.61, 95.23,93.02,91.11, 93.02,92.85,97.56]))\n",
    "print(\"No_Error_mean=\",  np.mean([3, 4,2,1, 3,4,4, 4,5,2]))"
   ]
  },
  {
   "cell_type": "code",
   "execution_count": 27,
   "metadata": {},
   "outputs": [
    {
     "name": "stdout",
     "output_type": "stream",
     "text": [
      "Accuacy_std= 1.422752262342252\n",
      "Pecision_std= 1.3786663845905578\n",
      "Recall_std= 1.422752262342252\n",
      "F_Score_std= 1.425502016834771\n",
      "roc_auc_scoe_std= 1.422752262342252\n",
      "Specificity_std= 2.2384032255159054\n",
      "No_Error_std= 1.1661903789690602\n"
     ]
    }
   ],
   "source": [
    "print(\"Accuacy_std=\", np.std([96.34, 95.12,97.56,98.78, 96.34,95.12,95.12, 95.12,93.90,97.56]))\n",
    "print(\"Pecision_std=\", np.std([96.36, 95.22,97.56,98.80, 96.36,95.22,95.55, 95.22,93.92,97.56]))\n",
    "print(\"Recall_std=\", np.std([96.34, 95.12,97.56,98.78, 96.34,95.12,95.12, 95.12,93.90,97.56]))\n",
    "print(\"F_Score_std=\", np.std([96.34, 95.11,97.56,98.78, 96.34,95.11,95.11, 95.11,93.90,97.56]))\n",
    "print(\"roc_auc_scoe_std=\", np.std([96.34, 95.12,97.56,98.78, 96.34,95.12,95.12, 95.12,93.90,97.56]))\n",
    "print(\"Specificity_std=\",  np.std([95.23, 93.02,97.56,97.61, 95.23,93.02,91.11, 93.02,92.85,97.56]))\n",
    "print(\"No_Error_std=\",  np.std([3, 4,2,1, 3,4,4, 4,5,2]))"
   ]
  },
  {
   "cell_type": "markdown",
   "metadata": {},
   "source": [
    "_______________\n",
    "# InceptionResNetV2"
   ]
  },
  {
   "cell_type": "code",
   "execution_count": 28,
   "metadata": {},
   "outputs": [
    {
     "name": "stdout",
     "output_type": "stream",
     "text": [
      "Accuacy_mean= 96.218\n",
      "Pecision_mean= 96.14399999999999\n",
      "Recall_mean= 96.21200000000002\n",
      "F_Score_mean= 96.215\n",
      "roc_auc_scoe_mean= 96.21700000000001\n",
      "Specificity_mean= 95.57700000000001\n",
      "No_Error_mean= 3.1\n"
     ]
    }
   ],
   "source": [
    "print(\"Accuacy_mean=\", np.mean([96.34, 96.34,96.34,96.34, 95.12,98.78,93.90, 97.56,95.12, 96.34]))\n",
    "print(\"Pecision_mean=\", np.mean([96.34, 96.36,96.36,96.36, 95.22,98.80,92.85, 97.67,95.12, 96.36]))\n",
    "print(\"Recall_mean=\", np.mean([96.34, 96.34,96.34,96.34, 95.12,98.70,93.92, 97.56,95.12, 96.34]))\n",
    "print(\"F_Score_mean=\", np.mean([96.33, 96.34,96.34,96.34, 95.11,98.78,93.90, 97.55,95.12, 96.34]))\n",
    "print(\"roc_auc_scoe_mean=\", np.mean([96.34, 96.34,96.34,96.34, 95.12,98.78,93.90, 97.55,95.12, 96.34 ]))\n",
    "print(\"Specificity_mean=\",  np.mean([93.18, 95.23,95.23,97.50, 97.43,97.61,93.90, 95.34,95.12, 95.23]))\n",
    "print(\"No_Error_mean=\",  np.mean([3, 3,3,3, 4,1,5, 2,4, 3]))"
   ]
  },
  {
   "cell_type": "code",
   "execution_count": 29,
   "metadata": {},
   "outputs": [
    {
     "name": "stdout",
     "output_type": "stream",
     "text": [
      "Accuacy_std= 1.273717394087086\n",
      "Pecision_std= 1.4953541386574625\n",
      "Recall_std= 1.2540877162304078\n",
      "F_Score_std= 1.2734382592022264\n",
      "roc_auc_scoe_std= 1.272666884931008\n",
      "Specificity_std= 1.4299933566279235\n",
      "No_Error_std= 1.044030650891055\n"
     ]
    }
   ],
   "source": [
    "print(\"Accuacy_std=\", np.std([96.34, 96.34,96.34,96.34, 95.12,98.78,93.90, 97.56,95.12, 96.34]))\n",
    "print(\"Pecision_std=\", np.std([96.34, 96.36,96.36,96.36, 95.22,98.80,92.85, 97.67,95.12, 96.36]))\n",
    "print(\"Recall_std=\", np.std([96.34, 96.34,96.34,96.34, 95.12,98.70,93.92, 97.56,95.12, 96.34]))\n",
    "print(\"F_Score_std=\", np.std([96.33, 96.34,96.34,96.34, 95.11,98.78,93.90, 97.55,95.12, 96.34]))\n",
    "print(\"roc_auc_scoe_std=\", np.std([96.34, 96.34,96.34,96.34, 95.12,98.78,93.90, 97.55,95.12, 96.34 ]))\n",
    "print(\"Specificity_std=\",  np.std([93.18, 95.23,95.23,97.50, 97.43,97.61,93.90, 95.34,95.12, 95.23]))\n",
    "print(\"No_Error_std=\",  np.std([3, 3,3,3, 4,1,5, 2,4, 3]))"
   ]
  },
  {
   "cell_type": "markdown",
   "metadata": {},
   "source": [
    "________________\n",
    "# VGG19"
   ]
  },
  {
   "cell_type": "code",
   "execution_count": 30,
   "metadata": {},
   "outputs": [
    {
     "name": "stdout",
     "output_type": "stream",
     "text": [
      "Accuacy_mean= 86.462\n",
      "Pecision_mean= 89.502\n",
      "Recall_mean= 86.458\n",
      "F_Score_mean= 86.128\n",
      "roc_auc_scoe_mean= 86.458\n",
      "Specificity_mean= 79.012\n",
      "No_Error_mean= 11.1\n"
     ]
    }
   ],
   "source": [
    "print(\"Accuacy_mean=\", np.mean([82.93,  87.80, 78.05, 89.02,  90.24, 87.80, 90.24,  91.46, 85.37, 81.71]))\n",
    "print(\"Pecision_mean=\", np.mean([87.27,  90.19, 84.74, 91.00,  91.83, 90.19, 91.83,  92.70, 88.67, 86.60]))\n",
    "print(\"Recall_mean=\", np.mean([82.92,  87.80, 78.04, 89.02,  90.24, 87.80, 90.24,  91.46, 85.36, 81.70]))\n",
    "print(\"F_Score_mean=\", np.mean([82.41,  87.62, 76.93, 88.89,  90.15, 87.62, 90.15,  91.40, 85.04, 81.07]))\n",
    "print(\"roc_auc_scoe_mean=\", np.mean([82.92,  87.80, 78.04, 89.02,  90.24, 87.80, 90.24,  91.46, 85.36, 81.70 ]))\n",
    "print(\"Specificity_mean=\",  np.mean([74.54,  80.39, 69.49, 82.00,  83.67, 80.39, 83.67,  85.41, 77.35, 73.21]))\n",
    "print(\"No_Error_mean=\",  np.mean([14,  10, 18, 9,  8 , 10, 8,  7, 12, 15]))"
   ]
  },
  {
   "cell_type": "code",
   "execution_count": 31,
   "metadata": {},
   "outputs": [
    {
     "name": "stdout",
     "output_type": "stream",
     "text": [
      "Accuacy_std= 4.131115587828545\n",
      "Pecision_std= 2.470412111369277\n",
      "Recall_std= 4.135422106629499\n",
      "F_Score_std= 4.443214602064592\n",
      "roc_auc_scoe_std= 4.135422106629499\n",
      "Specificity_std= 4.94112294928997\n",
      "No_Error_std= 3.3896902513356584\n"
     ]
    }
   ],
   "source": [
    "print(\"Accuacy_std=\", np.std([82.93,  87.80, 78.05, 89.02,  90.24, 87.80, 90.24,  91.46, 85.37, 81.71]))\n",
    "print(\"Pecision_std=\", np.std([87.27,  90.19, 84.74, 91.00,  91.83, 90.19, 91.83,  92.70, 88.67, 86.60]))\n",
    "print(\"Recall_std=\", np.std([82.92,  87.80, 78.04, 89.02,  90.24, 87.80, 90.24,  91.46, 85.36, 81.70]))\n",
    "print(\"F_Score_std=\", np.std([82.41,  87.62, 76.93, 88.89,  90.15, 87.62, 90.15,  91.40, 85.04, 81.07]))\n",
    "print(\"roc_auc_scoe_std=\", np.std([82.92,  87.80, 78.04, 89.02,  90.24, 87.80, 90.24,  91.46, 85.36, 81.70 ]))\n",
    "print(\"Specificity_std=\",  np.std([74.54,  80.39, 69.49, 82.00,  83.67, 80.39, 83.67,  85.41, 77.35, 73.21]))\n",
    "print(\"No_Error_std=\",  np.std([14,  10, 18, 9,  8 , 10, 8,  7, 12, 15]))"
   ]
  },
  {
   "cell_type": "code",
   "execution_count": null,
   "metadata": {
    "collapsed": true
   },
   "outputs": [],
   "source": []
  },
  {
   "cell_type": "code",
   "execution_count": null,
   "metadata": {
    "collapsed": true
   },
   "outputs": [],
   "source": []
  },
  {
   "cell_type": "code",
   "execution_count": null,
   "metadata": {
    "collapsed": true
   },
   "outputs": [],
   "source": []
  }
 ],
 "metadata": {
  "kernelspec": {
   "display_name": "Python 3",
   "language": "python",
   "name": "python3"
  },
  "language_info": {
   "codemirror_mode": {
    "name": "ipython",
    "version": 3
   },
   "file_extension": ".py",
   "mimetype": "text/x-python",
   "name": "python",
   "nbconvert_exporter": "python",
   "pygments_lexer": "ipython3",
   "version": "3.6.3"
  }
 },
 "nbformat": 4,
 "nbformat_minor": 2
}
